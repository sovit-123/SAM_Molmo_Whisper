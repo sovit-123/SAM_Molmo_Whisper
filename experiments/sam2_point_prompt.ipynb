{
 "cells": [
  {
   "cell_type": "code",
   "execution_count": 1,
   "id": "cbae4b1a-4dc7-4e41-b232-07098db126e3",
   "metadata": {},
   "outputs": [
    {
     "name": "stderr",
     "output_type": "stream",
     "text": [
      "/home/sovitdl/miniconda3/envs/package_exps/lib/python3.10/site-packages/gradio_client/documentation.py:106: UserWarning: Could not get documentation group for <class 'gradio.mix.Parallel'>: No known documentation group for module 'gradio.mix'\n",
      "  warnings.warn(f\"Could not get documentation group for {cls}: {exc}\")\n",
      "/home/sovitdl/miniconda3/envs/package_exps/lib/python3.10/site-packages/gradio_client/documentation.py:106: UserWarning: Could not get documentation group for <class 'gradio.mix.Series'>: No known documentation group for module 'gradio.mix'\n",
      "  warnings.warn(f\"Could not get documentation group for {cls}: {exc}\")\n"
     ]
    }
   ],
   "source": [
    "# Requires gradio==3.35.2\n",
    "\n",
    "import gradio as gr\n",
    "\n",
    "from PIL import ImageDraw"
   ]
  },
  {
   "cell_type": "code",
   "execution_count": 2,
   "id": "85c9e93e-91d6-4d47-bd79-06b81818c1f8",
   "metadata": {},
   "outputs": [],
   "source": [
    "def get_points_with_draw(image, label='Add Points', evt: gr.SelectData=None):\n",
    "    x, y = evt.index[0], evt.index[1]\n",
    "    print(x, y)\n",
    "    point_radius, point_color = 15, (255, 255, 0) if label == 'Add Points' else (255, 0, 255)\n",
    "    global_points.append([x, y])\n",
    "    global_point_label.append(1 if label == 'Add Points' else 0)\n",
    "    \n",
    "    print(x, y, label == 'Add Points')\n",
    "    \n",
    "    draw = ImageDraw.Draw(image)\n",
    "    draw.ellipse([(x - point_radius, y - point_radius), (x + point_radius, y + point_radius)], fill=point_color)\n",
    "    \n",
    "    return image"
   ]
  },
  {
   "cell_type": "code",
   "execution_count": 3,
   "id": "ac179dc3-e239-426b-8055-28efd531cfb8",
   "metadata": {},
   "outputs": [],
   "source": [
    "def segment_with_points(\n",
    "    input,\n",
    "    input_size=1024, \n",
    "    iou_threshold=0.7,\n",
    "    conf_threshold=0.25,\n",
    "    better_quality=False,\n",
    "    withContours=True,\n",
    "    use_retina=True,\n",
    "    mask_random_color=True,\n",
    "):\n",
    "    global global_points\n",
    "    global global_point_label\n",
    "    \n",
    "    input_size = int(input_size) \n",
    "    \n",
    "    w, h = input.size\n",
    "    scale = input_size / max(w, h)\n",
    "    new_w = int(w * scale)\n",
    "    new_h = int(h * scale)\n",
    "    input = input.resize((new_w, new_h))\n",
    "    \n",
    "    scaled_points = [[int(x * scale) for x in point] for point in global_points]\n",
    "\n",
    "    results = model(input,\n",
    "                    device=device,\n",
    "                    retina_masks=True,\n",
    "                    iou=iou_threshold,\n",
    "                    conf=conf_threshold,\n",
    "                    imgsz=input_size,)\n",
    "    \n",
    "    results = format_results(results[0], 0)\n",
    "    annotations, _ = point_prompt(results, scaled_points, global_point_label, new_h, new_w)\n",
    "    annotations = np.array([annotations])\n",
    "\n",
    "    fig = fast_process(annotations=annotations,\n",
    "                       image=input,\n",
    "                       device=device,\n",
    "                       scale=(1024 // input_size),\n",
    "                       better_quality=better_quality,\n",
    "                       mask_random_color=mask_random_color,\n",
    "                       bbox=None,\n",
    "                       use_retina=use_retina,\n",
    "                       withContours=withContours,)\n",
    "\n",
    "    global_points = []\n",
    "    global_point_label = []\n",
    "    return fig, None"
   ]
  },
  {
   "cell_type": "code",
   "execution_count": 4,
   "id": "87cf966e-a21a-4f7b-a956-d208980d546e",
   "metadata": {},
   "outputs": [],
   "source": [
    "global_points = []\n",
    "global_point_label = []"
   ]
  },
  {
   "cell_type": "code",
   "execution_count": 5,
   "id": "0bbc7854-462d-4d27-95b8-ef0483966e4c",
   "metadata": {},
   "outputs": [],
   "source": [
    "cond_img_p = gr.Image(label=\"Input with points\", type='pil')"
   ]
  },
  {
   "cell_type": "code",
   "execution_count": 6,
   "id": "35e7f444-44d5-416f-a65d-562cfe704ab6",
   "metadata": {},
   "outputs": [],
   "source": [
    "with gr.Blocks(title='Fast Segment Anything') as demo:\n",
    "    with gr.Tab(\"Points mode\"):\n",
    "        # Images\n",
    "        with gr.Row(variant=\"panel\"):\n",
    "            with gr.Column(scale=1):\n",
    "                cond_img_p.render()\n",
    "                \n",
    "        # Submit & Clear\n",
    "        with gr.Row():\n",
    "            with gr.Column():\n",
    "                with gr.Row():\n",
    "                    add_or_remove = gr.Radio([\"Add Mask\", \"Remove Area\"], value=\"Add Mask\", label=\"Point_label (foreground/background)\")\n",
    "\n",
    "                    with gr.Column():\n",
    "                        segment_btn_p = gr.Button(\"Segment with points prompt\", variant='primary')\n",
    "                        clear_btn_p = gr.Button(\"Clear points\", variant='secondary')\n",
    "\n",
    "                gr.Markdown(\"Try some of the examples below ⬇️\")\n",
    "\n",
    "    cond_img_p.select(get_points_with_draw, [cond_img_p, add_or_remove], cond_img_p)"
   ]
  },
  {
   "cell_type": "code",
   "execution_count": 7,
   "id": "635aecde-64ce-4b7a-a6d4-5d502968b5be",
   "metadata": {},
   "outputs": [
    {
     "name": "stdout",
     "output_type": "stream",
     "text": [
      "Running on local URL:  http://127.0.0.1:7860\n",
      "Running on public URL: https://bf7cd166cb87f6576d.gradio.live\n",
      "\n",
      "This share link expires in 72 hours. For free permanent hosting and GPU upgrades, run `gradio deploy` from Terminal to deploy to Spaces (https://huggingface.co/spaces)\n"
     ]
    },
    {
     "data": {
      "text/html": [
       "<div><iframe src=\"https://bf7cd166cb87f6576d.gradio.live\" width=\"100%\" height=\"500\" allow=\"autoplay; camera; microphone; clipboard-read; clipboard-write;\" frameborder=\"0\" allowfullscreen></iframe></div>"
      ],
      "text/plain": [
       "<IPython.core.display.HTML object>"
      ]
     },
     "metadata": {},
     "output_type": "display_data"
    },
    {
     "data": {
      "text/plain": []
     },
     "execution_count": 7,
     "metadata": {},
     "output_type": "execute_result"
    }
   ],
   "source": [
    "demo.launch(share=True)"
   ]
  },
  {
   "cell_type": "code",
   "execution_count": null,
   "id": "8fa19c00-37df-45de-ba0f-1cecc9ae935a",
   "metadata": {},
   "outputs": [],
   "source": []
  }
 ],
 "metadata": {
  "kernelspec": {
   "display_name": "Python 3 (ipykernel)",
   "language": "python",
   "name": "python3"
  },
  "language_info": {
   "codemirror_mode": {
    "name": "ipython",
    "version": 3
   },
   "file_extension": ".py",
   "mimetype": "text/x-python",
   "name": "python",
   "nbconvert_exporter": "python",
   "pygments_lexer": "ipython3",
   "version": "3.10.15"
  }
 },
 "nbformat": 4,
 "nbformat_minor": 5
}
